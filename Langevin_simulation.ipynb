{
  "nbformat": 4,
  "nbformat_minor": 0,
  "metadata": {
    "colab": {
      "name": "Random-1.ipynb",
      "provenance": [],
      "authorship_tag": "ABX9TyNk9NTniQHFljLD35msYvFC",
      "include_colab_link": true
    },
    "kernelspec": {
      "name": "python3",
      "display_name": "Python 3"
    },
    "language_info": {
      "name": "python"
    }
  },
  "cells": [
    {
      "cell_type": "markdown",
      "metadata": {
        "id": "view-in-github",
        "colab_type": "text"
      },
      "source": [
        "<a href=\"https://colab.research.google.com/github/hisaylama/Brownian-Simulation/blob/master/Langevin_simulation.ipynb\" target=\"_parent\"><img src=\"https://colab.research.google.com/assets/colab-badge.svg\" alt=\"Open In Colab\"/></a>"
      ]
    },
    {
      "cell_type": "code",
      "metadata": {
        "id": "6OKC8EZkTCgZ",
        "colab": {
          "base_uri": "https://localhost:8080/"
        },
        "outputId": "a853c958-7163-472a-c5b1-05e730391c9b"
      },
      "source": [
        "import numpy as np\n",
        "import random, math\n",
        "import matplotlib.pyplot as plt\n",
        "import pylab\n",
        "\n",
        "kB = 1.38e-23 #Boltzman constant J/K\n",
        "T  = 300 #tempertaure K\n",
        "eta = 0.001 #Pa.s\n",
        "R = 1e-6 #size of the particle\n",
        "D_T = (kB*T)/(6*np.pi*eta*R) #translational diffusion m^2/s\n",
        "D_R = (kB*T)/(8*np.pi*eta*R**3) #rotational diffusion rad^2/s\n",
        "theta = 0 \n",
        "N = 1e3 #Number of steps\n",
        "dt = 1e-3 #s\n",
        "v = 1e-5 #m/s\n",
        "W = 3.14 #rad/s\n",
        "\n",
        "#Print the translation diffusion coefficient \n",
        "print(\"Translation diffusion coefficient = \", D_T )\n",
        "\n",
        "#Print the rotational diffusion coefficent\n",
        "print(\"Rotational diffusion coefficient = \", D_R )"
      ],
      "execution_count": 11,
      "outputs": [
        {
          "output_type": "stream",
          "name": "stdout",
          "text": [
            "Translation diffusion coefficient =  2.196338214668156e-13\n",
            "Rotational diffusion coefficient =  0.1647253661001117\n"
          ]
        }
      ]
    },
    {
      "cell_type": "code",
      "source": [
        "n_trials = 1e3\n",
        "#x = [0, 0]\n",
        "dt = 0.0001\n",
        "X = []\n",
        "x0 =0\n",
        "y0 =0\n",
        "theta = 0\n",
        "for i in range(int(n_trials)):\n",
        "    x = x0 + math.sqrt(2*D_R*dt)*np.random.normal(0,1, (1,1)) + v*math.cos(theta)\n",
        "    y = y0 + math.sqrt(2*D_R*dt)*np.random.normal(0,1, (1,1)) + v*math.cos(theta)\n",
        "    theta_new = theta + math.sqrt(2*D_T*dt)*np.random.normal(0,1, (1,1)) + dt*W;\n",
        "    x0 = x\n",
        "    y0 = y\n",
        "    theta_new = theta\n",
        "    xx = [x, y]\n",
        "    X.append(xx)\n",
        "\n",
        "import pandas as pd\n",
        "df = pd.DataFrame(X)\n",
        "\n",
        "\n",
        "x1 = df[0].astype(float)\n",
        "y1 = df[1].astype(float)\n"
      ],
      "metadata": {
        "id": "DQ3QMwrFknWb"
      },
      "execution_count": 12,
      "outputs": []
    },
    {
      "cell_type": "code",
      "source": [
        "plt.plot(x1, y1, color = 'r')"
      ],
      "metadata": {
        "colab": {
          "base_uri": "https://localhost:8080/",
          "height": 282
        },
        "id": "_sT_ehz704dZ",
        "outputId": "12d03ff8-4b2e-4384-f90c-7caad2eee1f1"
      },
      "execution_count": 13,
      "outputs": [
        {
          "output_type": "execute_result",
          "data": {
            "text/plain": [
              "[<matplotlib.lines.Line2D at 0x7f1084b6f290>]"
            ]
          },
          "metadata": {},
          "execution_count": 13
        },
        {
          "output_type": "display_data",
          "data": {
            "text/plain": [
              "<Figure size 432x288 with 1 Axes>"
            ],
            "image/png": "[encoded data removed]"
          },
          "metadata": {
            "needs_background": "light"
          }
        }
      ]
    },
    {
      "cell_type": "code",
      "source": [
        ""
      ],
      "metadata": {
        "id": "rUP7_Oez1_EJ"
      },
      "execution_count": 13,
      "outputs": []
    }
  ]
}