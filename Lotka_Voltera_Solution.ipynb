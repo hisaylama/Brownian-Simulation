{
  "nbformat": 4,
  "nbformat_minor": 0,
  "metadata": {
    "colab": {
      "name": "Lotka Voltera Solution",
      "provenance": [],
      "collapsed_sections": [],
      "include_colab_link": true
    },
    "kernelspec": {
      "name": "python3",
      "display_name": "Python 3"
    },
    "gpuClass": "standard",
    "accelerator": "GPU"
  },
  "cells": [
    {
      "cell_type": "markdown",
      "metadata": {
        "id": "view-in-github",
        "colab_type": "text"
      },
      "source": [
        "<a href=\"https://colab.research.google.com/github/hisaylama/Brownian-Simulation/blob/master/Lotka_Voltera_Solution.ipynb\" target=\"_parent\"><img src=\"https://colab.research.google.com/assets/colab-badge.svg\" alt=\"Open In Colab\"/></a>"
      ]
    },
    {
      "cell_type": "markdown",
      "metadata": {
        "id": "zMjL3kdGUV4J"
      },
      "source": [
        "# Recursive technical homework\n",
        "\n",
        "## Motivation\n",
        "We hope you have fun doing this task as well as learn something new. \n",
        "\n",
        "Do not be discouraged if you find the task challenging. Feel free to research as much as you want on Google or any other resource to solve this task. You are welcome to copy code snippets from stackoverflow, tutorials, blog posts, etc to help you finish the task. Make sure you understand them though :)\n",
        "\n",
        "It is alright if you don't solve 100% of the tasks, the goal is to push yourself a little and see how you like solving new problems using scientific computing and data analysis.\n",
        "\n",
        "**About colab**\n",
        "\n",
        "Please create a duplicate of this notebook using File > Save a Copy in Drive. Share your solution via a link to your local copy of the notebook.\n",
        "\n",
        "You can solve the entirety of this task using a free kernel running in the cloud. Just click 'Connect' on the top right of the notebook. You can use any python libraries you want *unless* explicitly told to code your own algorithm. If a library you want to use is not already available from the colab runtime, go to 'Help' > 'Search code snippets' > Type 'Importing a library that is not in Colab' to learn how to install a library using pip."
      ]
    },
    {
      "cell_type": "markdown",
      "metadata": {
        "id": "F-x-H7StWBiO"
      },
      "source": [
        "# Part 1\n",
        "The [Lotka-Volterra equations](https://en.wikipedia.org/wiki/Lotka%E2%80%93Volterra_equations) describe the behavior of predator-prey relationships in a closed ecosystem. For this task, we want to develop code to simulate the system given a set of hyperparameters and initial conditions, and visualize the trajectories of the system to gain a better understanding of the model.\n",
        "Specifically:\n",
        "\n",
        "* Using numerical integration, solve the coupled system of ODEs:\n",
        "\n",
        "$$x^\\prime = \\alpha x - \\beta x y$$\n",
        "$$y^\\prime = \\delta x y - \\gamma y$$\n",
        "\n",
        "* Plot an example trajectory of the system for some initial conditions and hyperparameters, as well as a phase portrait for the system [example](https://drive.google.com/file/d/1X_zj2YtLDXbppM8tA01K5nMiGt2aOIqS/view?usp=sharing).\n",
        "\n",
        "### Hint:\n",
        "\n",
        "* For this part, code your own numerical integration algorithm. Do not use a solver from an existing library (however, you are free to look at the source code of any such library for inspiration).\n",
        "* The easiest way to do numerical integration is using the [euler method](https://en.wikipedia.org/wiki/Euler_method). It can be an unstable method but for these simple equations it will give you good results.\n",
        "* To plot a nice phase portrait you need to overlay two plots: a parametric plot $(x(t), y(t))$ and a vector field $(x^\\prime(x, y), y^\\prime(x, y))$."
      ]
    },
    {
      "cell_type": "code",
      "metadata": {
        "id": "CTlIVDj6T7FR"
      },
      "source": [
        "import numpy as np\n",
        "#import torch\n",
        "import matplotlib.pyplot as plt"
      ],
      "execution_count": null,
      "outputs": []
    },
    {
      "cell_type": "markdown",
      "source": [
        "\n",
        "- **Using numerical integration, solve the coupled system of ODEs**\n",
        "\n",
        "$$x^\\prime = \\alpha x - \\beta x y \\, \\, ...(i)$$\n",
        "$$y^\\prime = \\delta x y - \\gamma y \\, \\, ...(ii)$$\n",
        "\n",
        "The snippets below numerically solves the `eq. (i) and (ii)` and gives an array of `x,y` for various times.  "
      ],
      "metadata": {
        "id": "VmVuh4soxY8G"
      }
    },
    {
      "cell_type": "code",
      "metadata": {
        "id": "G3-z4_sMV-wz"
      },
      "source": [
        "def lotka(x, y, alpha, beta, delta, gamma):\n",
        "\n",
        "  '''Calculate the Lotka-Volterra ODE.\n",
        "  \n",
        "    Inputs: scalar or tensor values, as per the original formula.\n",
        "    Outputs: scalar our tensor x' and y'.\n",
        "  ''' \n",
        "  #dxdt = alpha*x - beta*x*y = fx\n",
        "  fx = alpha*x - beta*x*y\n",
        "  #dydt = delta*x*y - gamma*y = fy\n",
        "  fy = delta*x*y - gamma*y\n",
        "  return fx,fy\n",
        "\n",
        "def integrate_ode(x0, y0, alpha, beta, delta, gamma, time, dt):\n",
        "  \n",
        "  '''Integrate the ODE.\n",
        "\n",
        "    Inputs: initial conditions x0 and y0, hyperparameters:\n",
        "    alpha, beta, delta, gamma; total time to integrate; discretization\n",
        "    step dt.\n",
        "\n",
        "    Outputs: two tensors containing x[t] and y[t]\n",
        "  '''\n",
        "  #dt = time/num \n",
        "  #num = number of steps\n",
        "  num = time/dt \n",
        "  #print('Number of steps', num)\n",
        "  #print('-----------------------------------------------')\n",
        "  xData = []\n",
        "  yData = []\n",
        "  tData = []\n",
        "  for i in range(round(num)):\n",
        "    [fx, fy] = lotka(x0, y0, alpha, beta, delta, gamma)\n",
        "    x = x0 + dt*fx\n",
        "    y = y0 + dt*fy      \n",
        "    #print('%d \\t%.4f\\t%.4f\\t%0.4f\\t%.4f'% (i, x0,y0,fx,x) )\n",
        "    #print('-----------------------------------------------')\n",
        "    x0 = x\n",
        "    y0 = y \n",
        "    time = time + dt\n",
        "\n",
        "    tData.append(time)  \n",
        "    xData.append(x)\n",
        "    yData.append(y)\n",
        "  return xData, yData, tData\n",
        "\n",
        "#Generate x, y, t data's in 3 coloumns \n",
        "x, y, t = integrate_ode(5, 4, 0.9, 0.3, 0.8, 1, 20, 0.01) \n",
        "#print(\"x[t]=\",x, \"\\t\", \"y[t]=\",y)\n",
        "#t = time \n",
        "#Plot the phase space\n",
        "# import matplotlib.pyplot as plt\n",
        "# import matplotlib.pyplot as mpl\n",
        "# fig = plt.figure(figsize = (10,5))\n",
        "# ax1 = fig.add_subplot(111)\n",
        "# ax1.scatter(x, y, s=10, c='b', marker=\"s\", label='phase space')\n",
        "# plt.legend(loc='upper right');\n",
        "# plt.xlabel('# of prey [x]')\n",
        "# plt.ylabel('# of predator [y]')\n",
        "# plt.title('Phase plot')\n",
        "# mpl.rcParams['font.size'] = 18 \n",
        "# plt.show()"
      ],
      "execution_count": null,
      "outputs": []
    },
    {
      "cell_type": "markdown",
      "source": [
        "- **Plot an example trajectory of the system for some initial conditions and hyperparameters, as well as a phase portrait for the system**\n",
        "\n",
        "I plot the trajectory for `x,y` and `phase space` with the following initial values and parameters.\n",
        "\n",
        ">> **Initial values**\n",
        "- x0 = 5,\n",
        "- y0 = 4, \n",
        "- dt = 0.01\n",
        "- time = 20\n",
        "\n",
        ">> **Parameter** \n",
        "- $\\alpha$ = 0.9 \n",
        "- $\\beta$ = 0.3 \n",
        "- $\\delta$ = 0.8 \n",
        "- $\\gamma$ = 1\n"
      ],
      "metadata": {
        "id": "B1q_8O0fynd2"
      }
    },
    {
      "cell_type": "code",
      "source": [
        "#Code for plotting the trajectory x and y as a function of 't'\n",
        "import matplotlib.pyplot as plt\n",
        "import matplotlib.pyplot as mpl\n",
        "fig = plt.figure()\n",
        "ax1 = fig.add_subplot(111)\n",
        "ax1.scatter(t, x, s=10, c='b', marker=\"s\", label='prey, [x]')\n",
        "ax1.scatter(t,y, s=10, c='r', marker=\"o\", label='predators, [y]')\n",
        "plt.legend(loc='upper left');\n",
        "plt.xlabel('time')\n",
        "plt.ylabel('prey[x], predators [y]')\n",
        "plt.title('Prey and predator population trajectory')\n",
        "mpl.rcParams['font.size'] = 18\n",
        "plt.show()"
      ],
      "metadata": {
        "colab": {
          "base_uri": "https://localhost:8080/",
          "height": 295
        },
        "id": "u3nPI64mW_bm",
        "outputId": "5ee09003-af89-40f4-e50e-385e709fce54"
      },
      "execution_count": null,
      "outputs": [
        {
          "output_type": "display_data",
          "data": {
            "text/plain": [
              "<Figure size 432x288 with 1 Axes>"
            ],
            "image/png": "[encoded data removed]"
          },
          "metadata": {
            "needs_background": "light"
          }
        }
      ]
    },
    {
      "cell_type": "code",
      "source": [
        "#Getting the vector Field\n",
        "alpha = 0.9 \n",
        "beta = 0.3 \n",
        "delta = 0.8 \n",
        "gamma = 1\n",
        "vectorData = []\n",
        "for i in range(1, len(x)):\n",
        "    L = lotka(x[i], y[i], alpha, beta, delta, gamma) \n",
        "    #print(L)\n",
        "    vectorData.append(L)\n",
        "\n",
        "#Potting the data with prey (x) - predator(y) phase space overlayed on the vector data\n",
        "import matplotlib.pyplot as plt\n",
        "plt.plot(x, y, linewidth = 2.0, color = 'blue')\n",
        "plt.xlabel('# of prey [x]')\n",
        "plt.ylabel('# of predator [y]')\n",
        "plt.title('Phase plot')\n",
        "\n",
        "#Hyperparameter\n",
        "alpha = 0.9 \n",
        "beta = 0.3 \n",
        "delta = 0.8 \n",
        "gamma = 1\n",
        "\n",
        "# Meshgrid\n",
        "x1 = np.arange(0,8,1)\n",
        "y1 = np.arange(0,15,1)\n",
        "X,Y = np.meshgrid(x1,y1)\n",
        "\n",
        "# Assign vector directions\n",
        "Dx = alpha*X - beta*X*Y\n",
        "Dy = delta*X*Y - gamma*Y\n",
        "\n",
        "# Depict illustration\n",
        "plt.quiver(X,Y,Dx,Dy, color = 'r')\n",
        "plt.title('Vector Field') \n",
        "# Show plot with grid\n",
        "plt.grid()\n",
        "plt.show()\n"
      ],
      "metadata": {
        "id": "qv8yopI1R-8P",
        "colab": {
          "base_uri": "https://localhost:8080/",
          "height": 317
        },
        "outputId": "8a698136-7a27-4f2c-94ca-afb06eacce7f"
      },
      "execution_count": null,
      "outputs": [
        {
          "output_type": "display_data",
          "data": {
            "text/plain": [
              "<Figure size 432x288 with 1 Axes>"
            ],
            "image/png": "[encoded data removed]"
          },
          "metadata": {
            "needs_background": "light"
          }
        }
      ]
    },
    {
      "cell_type": "markdown",
      "metadata": {
        "id": "KtzmPVFcjuvX"
      },
      "source": [
        "# Part 2\n",
        "\n",
        "Researchers have measured the density of a certain predator and prey in a real savannah, but the equipment was unreliable so the data has gaps as well as noise. The data can be found in [data.csv](https://gist.github.com/tmramalho/51733432c88e2b834dbd70353849f887) \n",
        "\n",
        "In this exercise, we want to train an [MLP](https://en.wikipedia.org/wiki/Multilayer_perceptron) to regress the full observed trajectory from the measured data. Formally, the MLP will be used to approximate the function $f:\\mathbb{R} \\rightarrow \\mathbb{R}^2 ; f(t) = (x(t), y(t))$. In other words, the model takes the current time as an input, and predicts the values of `x` and `y` at that time based only on the measured data.\n",
        "\n",
        "### Hint:\n",
        "* The provided code uses PyTorch. Refer to the tutorial [here](https://pytorch.org/tutorials/beginner/blitz/cifar10_tutorial.html#sphx-glr-beginner-blitz-cifar10-tutorial-py) if you need to learn more about PyTorch.\n",
        "* You can also ignore the code below and implement this task in a library of your choice such as TensorFlow, JAX or others.\n",
        "* For this problem you will need to use a regression loss, not a classification loss.\n"
      ]
    },
    {
      "cell_type": "markdown",
      "source": [
        "\n",
        "Researchers have measured the density of a certain predator and prey in a real savannah, but the equipment was unreliable so the data has gaps as well as noise. The data can be found in [data.csv](https://gist.github.com/tmramalho/51733432c88e2b834dbd70353849f887) \n",
        "\n",
        "In this exercise, we want to train an [MLP](https://en.wikipedia.org/wiki/Multilayer_perceptron) to regress the full observed trajectory from the measured data. Formally, the MLP will be used to approximate the function $f:\\mathbb{R} \\rightarrow \\mathbb{R}^2 ; f(t) = (x(t), y(t))$. In other words, the model takes the current time as an input, and predicts the values of `x` and `y` at that time based only on the measured data.\n",
        "\n",
        "### Hint:\n",
        "* The provided code uses PyTorch. Refer to the tutorial [here](https://pytorch.org/tutorials/beginner/blitz/cifar10_tutorial.html#sphx-glr-beginner-blitz-cifar10-tutorial-py) if you need to learn more about PyTorch.\n",
        "* You can also ignore the code below and implement this task in a library of your choice such as TensorFlow, JAX or others.\n",
        "* For this problem you will need to use a regression loss, not a classification loss.\n",
        "\n",
        ">>**Solution: I used `TensorFlow` to solve the given problem.**"
      ],
      "metadata": {
        "id": "9yvMS6FwMtKn"
      }
    },
    {
      "cell_type": "code",
      "source": [
        "import tensorflow as tf\n",
        "import matplotlib.pyplot as plt\n",
        "import pandas as pd\n",
        "import matplotlib.pyplot as plt\n",
        "import numpy as np\n",
        "\n",
        "#import the data\n",
        "url = 'https://gist.githubusercontent.com/tmramalho/51733432c88e2b834dbd70353849f887/raw/676636d9e8512963005a318cb9b98060feadb641/data.csv'\n",
        "df = pd.read_csv(url,index_col=False)\n",
        "print(df.head())\n",
        "print(\"-------------------------------------------------\")\n",
        "df['x'] = df['x'].apply(lambda x: str(x).replace('-','0'))\n",
        "df['y'] = df['y'].apply(lambda y: str(y).replace('-','0'))\n",
        "#Replacing the blank with numerals (zero)\n",
        "df.fillna(0, inplace=True)\n",
        "\n",
        "#The data.type is object coonversting it to float type for analysis\n",
        "df = df.astype(float).round(2)\n",
        "\n",
        "#Remove the columns wherein x or y values are not available\n",
        "df= df[df['x'] != 0]\n",
        "df = df[df['y'] !=0]\n",
        "print(df.head())\n",
        "\n",
        "# #Output\n",
        "Yx = df[\"y\"]\n",
        "# #input\n",
        "Xt = df[\"t\"]\n",
        "#Visualize\n",
        "#plt.plot(Xt,Yx)"
      ],
      "metadata": {
        "id": "PAmkLRnXPbhG",
        "colab": {
          "base_uri": "https://localhost:8080/"
        },
        "outputId": "63b42918-b8b3-4b58-c8d6-5518da687140"
      },
      "execution_count": null,
      "outputs": [
        {
          "output_type": "stream",
          "name": "stdout",
          "text": [
            "      t                   x                   y\n",
            "0  0.00                   -  0.5759052335487023\n",
            "1  0.01                   -                   -\n",
            "2  0.02  1.1159124144549086                   -\n",
            "3  0.03                   -                   -\n",
            "4  0.04  1.0054825084650338  0.4775267298487888\n",
            "-------------------------------------------------\n",
            "       t     x     y\n",
            "4   0.04  1.01  0.48\n",
            "6   0.06  1.10  0.46\n",
            "13  0.13  1.02  0.38\n",
            "18  0.18  1.17  0.35\n",
            "30  0.30  1.16  0.40\n"
          ]
        }
      ]
    },
    {
      "cell_type": "markdown",
      "source": [
        "- **Training `x` from the dataset**"
      ],
      "metadata": {
        "id": "epSsIevu9z4U"
      }
    },
    {
      "cell_type": "code",
      "source": [
        "#Preparing the test and training dataset\n",
        "#Split the dataset in randomly\n",
        "from sklearn.model_selection import train_test_split\n",
        "t_train,t_test,x_train,x_test=train_test_split(df[\"t\"], df[\"x\"],test_size=0.2)\n",
        "\n",
        "#Visualize the data\n",
        "fig, ax = plt.subplots(2, figsize = (5,6), sharex=True, sharey=True)\n",
        "ax[0].scatter(t_train,x_train, color = 'blue')\n",
        "ax[0].set_xlabel(\"time\")\n",
        "ax[0].set_ylabel(\"# of prey [x]\")\n",
        "ax[0].legend(\"1\", loc = \"upper left\")\n",
        "\n",
        "ax[1].scatter(t_test, x_test, color = 'red')\n",
        "ax[1].set_xlabel(\"# time\")\n",
        "ax[1].set_ylabel(\"# of prey [x]\")\n",
        "ax[1].legend('2', loc = \"upper left\")"
      ],
      "metadata": {
        "id": "TMg6cXe7Wrku",
        "colab": {
          "base_uri": "https://localhost:8080/",
          "height": 421
        },
        "outputId": "92310ef7-840c-4522-ea76-14dce6f9858e"
      },
      "execution_count": null,
      "outputs": [
        {
          "output_type": "execute_result",
          "data": {
            "text/plain": [
              "<matplotlib.legend.Legend at 0x7f4bcbf87bd0>"
            ]
          },
          "metadata": {},
          "execution_count": 96
        },
        {
          "output_type": "display_data",
          "data": {
            "text/plain": [
              "<Figure size 360x432 with 2 Axes>"
            ],
            "image/png": "[encoded data removed]"
          },
          "metadata": {
            "needs_background": "light"
          }
        }
      ]
    },
    {
      "cell_type": "markdown",
      "source": [
        "`Note: The scatter plot `1` represents the training dataset and the plot `2` represnts the test dataset.` "
      ],
      "metadata": {
        "id": "lhY3-BsssNMI"
      }
    },
    {
      "cell_type": "markdown",
      "source": [
        ">> **The list of hyperparameters to be used for modelling are as follows:**\n",
        "- Number of hidden layer(s), \n",
        "- Neurons per hidden layer, \n",
        "- Activation function = relu, \n",
        "- Loss function = mse or mae, \n",
        "- Optimizers = Adam\n",
        "- Learning rate \n",
        "- Epoch\n",
        "\n",
        ">> I use the snippets from the tensorflow website, herein keras tuner is used to optimally search for the optimized number of hidden layer and learning rate. \n",
        "\n",
        "**Refererence**: https://www.tensorflow.org/tutorials/keras/keras_tuner"
      ],
      "metadata": {
        "id": "1WuZps8Qqa9x"
      }
    },
    {
      "cell_type": "code",
      "source": [
        "#Installing keras tuner\n",
        "!pip install -q -U keras-tuner"
      ],
      "metadata": {
        "id": "pbXTm0Tb5Frj"
      },
      "execution_count": null,
      "outputs": []
    },
    {
      "cell_type": "code",
      "source": [
        "#Hyperparameter search\n",
        "import tensorflow as tf\n",
        "from tensorflow import keras\n",
        "import keras_tuner as kt\n",
        "\n",
        "def model_builder(hp):\n",
        "  model = keras.Sequential()\n",
        "  model.add(keras.layers.Flatten(input_shape=[1]))\n",
        "\n",
        "  # Tune the number of units in the first Dense layer\n",
        "  # Choose an optimal value between 10-100\n",
        "  hp_units = hp.Int('units', min_value=10, max_value=1000, step=20)\n",
        "  model.add(keras.layers.Dense(units=hp_units, activation='relu'))\n",
        "  model.add(keras.layers.Dense(10, activation='relu'))\n",
        "\n",
        "  # Tune the learning rate for the optimizer\n",
        "  # Choose an optimal value from 0.01, 0.001, or 0.0001\n",
        "  hp_learning_rate = hp.Choice('learning_rate', values=[1e-2, 1e-3, 1e-4])\n",
        "\n",
        "  model.compile(optimizer=keras.optimizers.Adam(learning_rate=hp_learning_rate),\n",
        "                loss=keras.losses.mse,\n",
        "                metrics=['mse'])\n",
        "\n",
        "  return model\n"
      ],
      "metadata": {
        "id": "WZ9Nk6n-4jHA"
      },
      "execution_count": null,
      "outputs": []
    },
    {
      "cell_type": "code",
      "source": [
        "tuner = kt.BayesianOptimization(model_builder,\n",
        "                         objective=[\"val_accuracy\"],\n",
        "                         max_trials=80,\n",
        "                         seed=42)"
      ],
      "metadata": {
        "id": "tuDaP0-O8APO"
      },
      "execution_count": null,
      "outputs": []
    },
    {
      "cell_type": "code",
      "source": [
        "tuner.search(df[\"t\"], df[\"x\"], epochs=20, validation_split=0.2)\n",
        "\n",
        "# Get the optimal hyperparameters\n",
        "best_hps=tuner.get_best_hyperparameters(num_trials=10)[0]\n",
        "print(f\"\"\"\n",
        "The hyperparameter search is complete. The optimal number of units in the first densely-connected\n",
        "layer is {best_hps.get('units')} and the optimal learning rate for the optimizer\n",
        "is {best_hps.get('learning_rate')}.\n",
        "\"\"\")"
      ],
      "metadata": {
        "colab": {
          "base_uri": "https://localhost:8080/"
        },
        "id": "f4oNTTxP7W3N",
        "outputId": "8b3da630-433c-4861-e10f-48395f15786a"
      },
      "execution_count": null,
      "outputs": [
        {
          "output_type": "stream",
          "name": "stdout",
          "text": [
            "\n",
            "The hyperparameter search is complete. The optimal number of units in the first densely-connected\n",
            "layer is 830 and the optimal learning rate for the optimizer\n",
            "is 0.001.\n",
            "\n"
          ]
        }
      ]
    },
    {
      "cell_type": "code",
      "source": [
        "#Let's  create a model which builds automatically by defining the input shape\n",
        "tf.random.set_seed(42)\n",
        "# Setting a random seed, ensures that the “random” initialization of variables are always the same\n",
        "\n",
        "#1. Create a model\n",
        "model = tf.keras.Sequential([ \n",
        "  tf.keras.layers.Dense(830, activation = \"relu\", input_shape = [1]), \n",
        "  tf.keras.layers.Dense(1000, activation = \"relu\"), \n",
        "  tf.keras.layers.Dense(1000,activation = \"relu\"),  \n",
        "  tf.keras.layers.Dense(1000,activation = \"relu\"),  \n",
        "  tf.keras.layers.Dense(1000,activation = \"relu\"),  \n",
        "  tf.keras.layers.Dense(1000,activation = \"relu\"),  \n",
        "  tf.keras.layers.Dense(1, activation = \"relu\") #1 unit (for output layer)\n",
        "])\n",
        "\n",
        "#2. Compile the model\n",
        "model.compile(loss = tf.keras.losses.mse,\n",
        "             optimizer = tf.keras.optimizers.Adam(lr = 0.001),\n",
        "             metrics = [\"mse\"])\n",
        "\n",
        "#3. Fit the model\n",
        "history = model.fit(tf.expand_dims(t_train, axis = -1), x_train, epochs = 1000, verbose = 0)\n",
        "\n",
        "\n",
        "#Genertaing a test data to be predicted\n",
        "test_time = t_test\n",
        "\n",
        "x_pred = model.predict(test_time)\n",
        "plt.scatter(t_train, x_train, color = 'red', label = 'Data for prey')\n",
        "plt.scatter(test_time, x_pred.squeeze(), color = 'blue', linewidth = 2.0, label = 'Prediction')\n",
        "plt.xlabel(\"time\")\n",
        "plt.ylabel(\"# of prey, [x]\")\n",
        "plt.legend(loc = \"upper left\")\n",
        "plt.show()\n",
        "\n",
        "# Plot history (also known as a loss curve)\n",
        "#pd.DataFrame(history.history).plot()\n",
        "#plt.ylabel(\"loss\")\n",
        "#plt.xlabel(\"epochs\");\n",
        "#plt.show()"
      ],
      "metadata": {
        "colab": {
          "base_uri": "https://localhost:8080/",
          "height": 330
        },
        "id": "uPjdocv7qMbh",
        "outputId": "ccd170ce-4c83-4450-8dbd-041ac8adcd95"
      },
      "execution_count": null,
      "outputs": [
        {
          "output_type": "stream",
          "name": "stderr",
          "text": [
            "/usr/local/lib/python3.7/dist-packages/keras/optimizer_v2/adam.py:105: UserWarning: The `lr` argument is deprecated, use `learning_rate` instead.\n",
            "  super(Adam, self).__init__(name, **kwargs)\n"
          ]
        },
        {
          "output_type": "display_data",
          "data": {
            "text/plain": [
              "<Figure size 432x288 with 1 Axes>"
            ],
            "image/png": "[encoded data removed]"
          },
          "metadata": {
            "needs_background": "light"
          }
        }
      ]
    },
    {
      "cell_type": "markdown",
      "source": [
        ">> The test data (`red filled circles`) and the predicted data (`blue filled circles`) one overlaps well."
      ],
      "metadata": {
        "id": "4rO6XvbC9FGN"
      }
    },
    {
      "cell_type": "code",
      "source": [
        "model.summary()"
      ],
      "metadata": {
        "colab": {
          "base_uri": "https://localhost:8080/"
        },
        "id": "_XKY6Xpy_xg1",
        "outputId": "72469e36-d827-4e88-edc0-40a32b1399c8"
      },
      "execution_count": null,
      "outputs": [
        {
          "output_type": "stream",
          "name": "stdout",
          "text": [
            "Model: \"sequential_11\"\n",
            "_________________________________________________________________\n",
            " Layer (type)                Output Shape              Param #   \n",
            "=================================================================\n",
            " dense_52 (Dense)            (None, 830)               1660      \n",
            "                                                                 \n",
            " dense_53 (Dense)            (None, 1000)              831000    \n",
            "                                                                 \n",
            " dense_54 (Dense)            (None, 1000)              1001000   \n",
            "                                                                 \n",
            " dense_55 (Dense)            (None, 1000)              1001000   \n",
            "                                                                 \n",
            " dense_56 (Dense)            (None, 1000)              1001000   \n",
            "                                                                 \n",
            " dense_57 (Dense)            (None, 1000)              1001000   \n",
            "                                                                 \n",
            " dense_58 (Dense)            (None, 1)                 1001      \n",
            "                                                                 \n",
            "=================================================================\n",
            "Total params: 4,837,661\n",
            "Trainable params: 4,837,661\n",
            "Non-trainable params: 0\n",
            "_________________________________________________________________\n"
          ]
        }
      ]
    },
    {
      "cell_type": "code",
      "source": [
        "# Calculate the mean absolute error\n",
        "mae = tf.metrics.mean_absolute_error(x_test, x_pred.squeeze())\n",
        "print('Mean absolute error:', mae)"
      ],
      "metadata": {
        "colab": {
          "base_uri": "https://localhost:8080/"
        },
        "id": "TtexSi_2YL6d",
        "outputId": "c3e77c26-2505-4c77-c4ba-d8261edf5b13"
      },
      "execution_count": null,
      "outputs": [
        {
          "output_type": "stream",
          "name": "stdout",
          "text": [
            "Mean absolute error: tf.Tensor(0.3727605, shape=(), dtype=float32)\n"
          ]
        }
      ]
    },
    {
      "cell_type": "code",
      "source": [
        "# Calculate the mean square error\n",
        "mse = tf.metrics.mean_squared_error(x_test, x_pred.squeeze())\n",
        "print('Mean squared error:', mse)"
      ],
      "metadata": {
        "colab": {
          "base_uri": "https://localhost:8080/"
        },
        "id": "-1J6sVvHYdsm",
        "outputId": "5238ec0e-0d5d-4d05-e93d-2c69ddaddd99"
      },
      "execution_count": null,
      "outputs": [
        {
          "output_type": "stream",
          "name": "stdout",
          "text": [
            "Mean squared error: tf.Tensor(0.3061894, shape=(), dtype=float32)\n"
          ]
        }
      ]
    },
    {
      "cell_type": "markdown",
      "source": [
        "- **Training `y` from the dataset**"
      ],
      "metadata": {
        "id": "eaDuVQOn-FBf"
      }
    },
    {
      "cell_type": "code",
      "source": [
        "#Preparing the test and training dataset\n",
        "#Split the dataset in randomly\n",
        "from sklearn.model_selection import train_test_split\n",
        "t_train,t_test,y_train,y_test=train_test_split(df[\"t\"], df[\"y\"],test_size=0.2)\n",
        "\n",
        "#Visualize the data\n",
        "fig, ax = plt.subplots(2, figsize = (5,6), sharex=True, sharey=True)\n",
        "ax[0].scatter(t_train,y_train, color = 'blue')\n",
        "ax[0].set_xlabel(\"time\")\n",
        "ax[0].set_ylabel(\"# of predators [y]\")\n",
        "ax[0].legend(\"1\", loc = \"upper left\")\n",
        "\n",
        "ax[1].scatter(t_test, y_test, color = 'red')\n",
        "ax[1].set_xlabel(\"# time\")\n",
        "ax[1].set_ylabel(\"# of predators [y]\")\n",
        "ax[1].legend('2', loc = \"upper left\")"
      ],
      "metadata": {
        "colab": {
          "base_uri": "https://localhost:8080/",
          "height": 428
        },
        "id": "BAWmDXw99xqt",
        "outputId": "f82fe0c7-5099-4d2a-d82c-e0b912be05a0"
      },
      "execution_count": null,
      "outputs": [
        {
          "output_type": "execute_result",
          "data": {
            "text/plain": [
              "<matplotlib.legend.Legend at 0x7f4bc9357990>"
            ]
          },
          "metadata": {},
          "execution_count": 123
        },
        {
          "output_type": "display_data",
          "data": {
            "text/plain": [
              "<Figure size 360x432 with 2 Axes>"
            ],
            "image/png": "[encoded data removed]"
          },
          "metadata": {
            "needs_background": "light"
          }
        }
      ]
    },
    {
      "cell_type": "code",
      "source": [
        "#Let's  create a model which builds automatically by defining the input shape\n",
        "tf.random.set_seed(42)\n",
        "# Setting a random seed, ensures that the “random” initialization of variables are always the same\n",
        "\n",
        "#1. Create a model\n",
        "model = tf.keras.Sequential([ \n",
        "  tf.keras.layers.Dense(830, activation = \"relu\", input_shape = [1]), \n",
        "  tf.keras.layers.Dense(1000, activation = \"relu\"), \n",
        "  tf.keras.layers.Dense(1000,activation = \"relu\"),  \n",
        "  tf.keras.layers.Dense(1000,activation = \"relu\"),  \n",
        "  tf.keras.layers.Dense(1000,activation = \"relu\"),  \n",
        "  tf.keras.layers.Dense(1000,activation = \"relu\"),  \n",
        "  tf.keras.layers.Dense(1, activation = \"relu\") #1 unit (for output layer)\n",
        "])\n",
        "\n",
        "#2. Compile the model\n",
        "model.compile(loss = tf.keras.losses.mse,\n",
        "             optimizer = tf.keras.optimizers.Adam(lr = 0.001),\n",
        "             metrics = [\"mse\"])\n",
        "\n",
        "#3. Fit the model\n",
        "history = model.fit(tf.expand_dims(t_train, axis = -1), y_train, epochs = 1000, verbose = 0)\n",
        "\n",
        "\n",
        "#Genertaing a test data to be predicted\n",
        "test_time = t_test\n",
        "\n",
        "y_pred = model.predict(test_time)\n",
        "plt.scatter(t_train, y_train, color = 'red', label = 'Data for predators')\n",
        "plt.scatter(test_time, y_pred.squeeze(), color = 'blue', linewidth = 2.0, label = 'Prediction')\n",
        "plt.xlabel(\"time\")\n",
        "plt.ylabel(\"# of predators, [y]\")\n",
        "plt.legend(loc = \"upper left\")\n",
        "plt.show()\n",
        "\n",
        "# Plot history (also known as a loss curve)\n",
        "#pd.DataFrame(history.history).plot()\n",
        "#plt.ylabel(\"loss\")\n",
        "#plt.xlabel(\"epochs\");\n",
        "#plt.show()"
      ],
      "metadata": {
        "colab": {
          "base_uri": "https://localhost:8080/",
          "height": 367
        },
        "id": "jZ315evy-cCd",
        "outputId": "37e8e2d4-c57c-43a4-a64a-d84702f4e546"
      },
      "execution_count": null,
      "outputs": [
        {
          "output_type": "stream",
          "name": "stderr",
          "text": [
            "/usr/local/lib/python3.7/dist-packages/keras/optimizer_v2/adam.py:105: UserWarning: The `lr` argument is deprecated, use `learning_rate` instead.\n",
            "  super(Adam, self).__init__(name, **kwargs)\n",
            "WARNING:tensorflow:5 out of the last 13 calls to <function Model.make_predict_function.<locals>.predict_function at 0x7f4bba824b90> triggered tf.function retracing. Tracing is expensive and the excessive number of tracings could be due to (1) creating @tf.function repeatedly in a loop, (2) passing tensors with different shapes, (3) passing Python objects instead of tensors. For (1), please define your @tf.function outside of the loop. For (2), @tf.function has experimental_relax_shapes=True option that relaxes argument shapes that can avoid unnecessary retracing. For (3), please refer to https://www.tensorflow.org/guide/function#controlling_retracing and https://www.tensorflow.org/api_docs/python/tf/function for  more details.\n"
          ]
        },
        {
          "output_type": "display_data",
          "data": {
            "text/plain": [
              "<Figure size 432x288 with 1 Axes>"
            ],
            "image/png": "[encoded data removed]"
          },
          "metadata": {
            "needs_background": "light"
          }
        }
      ]
    },
    {
      "cell_type": "markdown",
      "source": [
        ">> The test data (red filled circles) and the predicted data (blue filled circles) one overlaps well."
      ],
      "metadata": {
        "id": "Hp98QQI_-r2e"
      }
    },
    {
      "cell_type": "code",
      "source": [
        "model.summary()"
      ],
      "metadata": {
        "colab": {
          "base_uri": "https://localhost:8080/"
        },
        "id": "yvgNn2uA-uXF",
        "outputId": "1fd9e025-716e-4630-9592-7de24e8f75b2"
      },
      "execution_count": null,
      "outputs": [
        {
          "output_type": "stream",
          "name": "stdout",
          "text": [
            "Model: \"sequential_14\"\n",
            "_________________________________________________________________\n",
            " Layer (type)                Output Shape              Param #   \n",
            "=================================================================\n",
            " dense_73 (Dense)            (None, 830)               1660      \n",
            "                                                                 \n",
            " dense_74 (Dense)            (None, 1000)              831000    \n",
            "                                                                 \n",
            " dense_75 (Dense)            (None, 1000)              1001000   \n",
            "                                                                 \n",
            " dense_76 (Dense)            (None, 1000)              1001000   \n",
            "                                                                 \n",
            " dense_77 (Dense)            (None, 1000)              1001000   \n",
            "                                                                 \n",
            " dense_78 (Dense)            (None, 1000)              1001000   \n",
            "                                                                 \n",
            " dense_79 (Dense)            (None, 1)                 1001      \n",
            "                                                                 \n",
            "=================================================================\n",
            "Total params: 4,837,661\n",
            "Trainable params: 4,837,661\n",
            "Non-trainable params: 0\n",
            "_________________________________________________________________\n"
          ]
        }
      ]
    },
    {
      "cell_type": "markdown",
      "source": [
        "## **Answers to questions:**\n",
        ">> Please answer the questions about the exercise below as a text cell. A few sentences answer per question is enough, no need to write a long essay.\n",
        "  \n",
        "**(a) Roughly, how many parameters does the neural network you defined above have? How did you estimate that number?**\n"
      ],
      "metadata": {
        "id": "TBbSCg-6hbck"
      }
    },
    {
      "cell_type": "markdown",
      "source": [
        ">> Neurons decides parameters by themselves based on our initial choice of hyperparameters."
      ],
      "metadata": {
        "id": "DGdD3NVXEJTX"
      }
    },
    {
      "cell_type": "code",
      "source": [
        "model.summary()"
      ],
      "metadata": {
        "colab": {
          "base_uri": "https://localhost:8080/"
        },
        "id": "wObp75UA_64G",
        "outputId": "79431907-f81e-4e38-9f74-593f6844180e"
      },
      "execution_count": null,
      "outputs": [
        {
          "output_type": "stream",
          "name": "stdout",
          "text": [
            "Model: \"sequential_10\"\n",
            "_________________________________________________________________\n",
            " Layer (type)                Output Shape              Param #   \n",
            "=================================================================\n",
            " dense_45 (Dense)            (None, 96)                192       \n",
            "                                                                 \n",
            " dense_46 (Dense)            (None, 1000)              97000     \n",
            "                                                                 \n",
            " dense_47 (Dense)            (None, 1000)              1001000   \n",
            "                                                                 \n",
            " dense_48 (Dense)            (None, 1000)              1001000   \n",
            "                                                                 \n",
            " dense_49 (Dense)            (None, 1000)              1001000   \n",
            "                                                                 \n",
            " dense_50 (Dense)            (None, 1000)              1001000   \n",
            "                                                                 \n",
            " dense_51 (Dense)            (None, 1)                 1001      \n",
            "                                                                 \n",
            "=================================================================\n",
            "Total params: 4,102,193\n",
            "Trainable params: 4,102,193\n",
            "Non-trainable params: 0\n",
            "_________________________________________________________________\n"
          ]
        }
      ]
    },
    {
      "cell_type": "markdown",
      "source": [
        "`Neurons decides parameters by themselves based on our initial choice of hyperparameters.`"
      ],
      "metadata": {
        "id": "w3lo8Jn4AG81"
      }
    },
    {
      "cell_type": "markdown",
      "source": [
        "**(b) How does changing the batch size affect the optimization procedure?**\n",
        ">> The displayed results are with `train:test` dataset in a ratio `0.8:0.2`. For batch sizes with ratio's `0.6:0.4, 0.7:0.3, 0.8:0.2, 0.9:01`, the optmization process is not so much affected with the same hyperparameters. For details please see the **Appendix** (end of the colab file) . "
      ],
      "metadata": {
        "id": "Q-7onmmVAmAe"
      }
    },
    {
      "cell_type": "markdown",
      "source": [
        "**(c) What optimizer did you choose and why? Explain its most important hyperparameters.**\n",
        "\n",
        ">> I use `Adam optimizers` for this analysis because it has fewer hyper parameters and faster computation time. The most crucial hyperparameter for this is the `learning rate`. Here the `learning rate` is chosen as `0.0001`."
      ],
      "metadata": {
        "id": "bxOJRmSuyjIg"
      }
    },
    {
      "cell_type": "markdown",
      "source": [
        "**(d) What difficulties did you face when processing the dataset? How did you resolve them?**\n",
        "\n",
        ">> The most challenging part is selecting the correct hyperparameters. To solve this problem, I used optimizing  `BayesianOptimization` and `keras_tuner` from Keras. This gives me a rough estimate of the number of units in the first layer and the possible learning rate. Still, I did the manual optimization to choose the right set of hyperparameters. "
      ],
      "metadata": {
        "id": "WWcJZUCQzIQp"
      }
    },
    {
      "cell_type": "markdown",
      "source": [
        "**(e) How did you find the hyperparameters that gave you the best result? What would you have done if you had more time?**\n",
        "\n",
        ">> To solve this problem I used optimizing `keras_tuner` from `keras`. This gives me a rough estimate of the number of units in the first layer together with the possible `learning rate`. Still the manual optiimization was done to choose the right set of hyperparameters. If I had more time then I possibly try more with different optimization processes."
      ],
      "metadata": {
        "id": "-RH2W8fn0HuY"
      }
    },
    {
      "cell_type": "markdown",
      "source": [
        "**(f) In this exercise, we trained an MLP to regress the data from a single time point. This corresponds to assuming the source function is markovian. What would we do differently if the function under study were non-markovian?** \n",
        "\n",
        ">> If the source function is non-markovian, then we need a memory kernel to handle the perceptron's information on past time—methods such as recurrent neural network (RNN) or autoregressive neural network (AR-NET) are useful in such cases."
      ],
      "metadata": {
        "id": "uoXJXvY-0qpo"
      }
    },
    {
      "cell_type": "markdown",
      "source": [
        "**(g) In this exercise, we did not check for overfitting. How would you change the code above to test for that possibility?**"
      ],
      "metadata": {
        "id": "rX_KvioREaCA"
      }
    },
    {
      "cell_type": "markdown",
      "source": [
        ">> To check the `overfitting`, one must plot the `loss function` as a function of `epochs` for both the training dataset and the cross-validation dataset (part of a real dataset). If the model `overfits` the data, we will observe that the `loss function` from the cross-validation dataset does not decrease with `epochs` while the training dataset continues to.\n",
        "\n",
        ">> To prevent 'overfitting`, one needs to use a method such as `regularization`. \n",
        "\n",
        "[Reference](https://www.tensorflow.org/tutorials/keras/overfit_and_underfit#:~:text=To%20prevent%20overfitting%2C%20the%20best,data%20will%20naturally%20generalize%20better.)"
      ],
      "metadata": {
        "id": "8ZQDZmYrEaXI"
      }
    },
    {
      "cell_type": "code",
      "source": [
        "#TODO plot the neural network output vs. the training data\n",
        "#If you trained successfuly you should see something like this\n",
        "#https://drive.google.com/file/d/1yNtJ6TcW51SkAYk0KlP-riUFzO1mfufa/view?usp=sharing"
      ],
      "metadata": {
        "id": "eyMXabifFWfm"
      },
      "execution_count": null,
      "outputs": []
    },
    {
      "cell_type": "markdown",
      "source": [
        "\n",
        "\n",
        "```\n",
        "# The give code\n",
        "import os\n",
        "import torch\n",
        "from torch import nn\n",
        "from torch.utils.data \n",
        "import DataLoader\n",
        "\n",
        "from torchvision import datasets, transforms''''\n",
        "class Net(nn.Module):\n",
        "'''Model to regress 2d time series values given scalar input.'''\n",
        "    def __init__(self):\n",
        "        super(Net, self).__init__()\n",
        "        #TODO\n",
        "        self.flatten = nn.Flatten()\n",
        "        self.linear_relu_stack = nn.Sequential(nn.Linear(28*28, 512),\n",
        "            nn.ReLU(),\n",
        "            nn.Linear(512, 512),\n",
        "            nn.ReLU(),\n",
        "            nn.Linear(512, 10),)\n",
        "    def forward(self, x):\n",
        "        #TODO\n",
        "        x = self.flatten(x)\n",
        "        logits = self.linear_relu_stack(x)\n",
        "        return logits\"\n",
        "\n",
        "        model = Net()\n",
        "        print(model)\n",
        "```\n",
        "\n",
        "\n",
        "```\n",
        "class TimeSeriesDataset(torch.utils.data.Dataset):\n",
        "\n",
        "    def __init__(self, csv_file, targets):\n",
        "      self.csv_file = csv_file\n",
        "      self.targets = targets\n",
        "        \n",
        "    def __len__(self):\n",
        "      return len(self.csv_file)\n",
        "        \n",
        "    def __getitem__(self, idx):\n",
        "      target = self.targets[idx]    \n",
        "\n",
        "\n",
        "dataset = TimeSeriesDataset('data.csv')\n",
        "trainloader = torch.utils.data.DataLoader(\n",
        "dataset, batch_size=BATCH_SIZE, shuffle=True, num_workers=2)\n",
        "\n",
        "def loss(outputs, labels):\n",
        "  #TODO\n",
        "    optimizer = #TODO what is a good optimizer?\n",
        "    net = Net()\n",
        "    for epoch in range(300):\n",
        "    running_loss = 0.0\n",
        "    for i, data in enumerate(trainloader, 0):\n",
        "        # TODO get the data\n",
        "\n",
        "        # TODO stochastic gradient descent\n",
        "        \n",
        "        # print statistics\n",
        "        running_loss += loss.item()\n",
        "        if i % 20 == 19:    # print every 20 mini-batches\n",
        "            print('[%d, %5d] loss: %.3f' %\n",
        "                  (epoch + 1, i + 1, running_loss / 20))\n",
        "            running_loss = 0.0\n",
        "\n",
        "       print('Finished Training')\n",
        "```\n",
        "\n"
      ],
      "metadata": {
        "id": "dlN_WFMSSHOz"
      }
    },
    {
      "cell_type": "markdown",
      "metadata": {
        "id": "jaAPE2BvN11k"
      },
      "source": [
        "## **Questions**\n",
        "\n",
        "Please answer the questions about the exercise below as a text cell. A few sentences answer per question is enough, no need to write a long essay.\n",
        "  \n",
        "- a) Roughly, how many parameters does the neural network you defined above have? How did you estimate that number?\n",
        "- b) How does changing the batch size affect the optimization procedure?\n",
        "- c) What optimizer did you choose and why? Explain its most important hyperparameters.\n",
        "- d) What difficulties did you face when processing the dataset? How did you resolve them?\n",
        "- e) How did you find the hyperparameters that gave you the best result? What would you have done if you had more time?\n",
        "- f) In this exercise, we trained an MLP to regress the data from a single time point. This corresponds to assuming the source function is markovian. What would we do differently if the function under study were non-markovian?\n",
        "- g) In this exercise, we did not check for overfitting. How would you change the code above to test for that possibility?\n"
      ]
    },
    {
      "cell_type": "markdown",
      "metadata": {
        "id": "iLIQSY7debIz"
      },
      "source": [
        "# Part 3\n",
        "\n",
        "In this section, we want to train a generative model of the above Lotka-Volterra equations. While there are many approaches to create a generative model, here we focus on creating an autoregressive model, i.e. $f_{t+1} = g(f_t, f_{t-1}, ...)$ where $g$ is a suitable neural network architecture.\n",
        "\n",
        "You are provided with some code that achieves this goal. However, the code is riddled with several subtle bugs that prevent proper training. Your task is to fix all the bugs such that the model trains correctly, and demonstrate the correctness of the trained model by plotting a sample of the model."
      ]
    },
    {
      "cell_type": "code",
      "source": [
        "!pip install x-transformers"
      ],
      "metadata": {
        "id": "6Q75IkJCBSHe",
        "colab": {
          "base_uri": "https://localhost:8080/"
        },
        "outputId": "17e88563-f860-43d0-83c9-20857255959c"
      },
      "execution_count": null,
      "outputs": [
        {
          "output_type": "stream",
          "name": "stdout",
          "text": [
            "Looking in indexes: https://pypi.org/simple, https://us-python.pkg.dev/colab-wheels/public/simple/\n",
            "Collecting x-transformers\n",
            "  Downloading x_transformers-0.32.1-py3-none-any.whl (15 kB)\n",
            "Collecting einops>=0.3\n",
            "  Downloading einops-0.4.1-py3-none-any.whl (28 kB)\n",
            "Collecting entmax\n",
            "  Downloading entmax-1.0.tar.gz (7.2 kB)\n",
            "Requirement already satisfied: torch>=1.6 in /usr/local/lib/python3.7/dist-packages (from x-transformers) (1.12.0+cu113)\n",
            "Requirement already satisfied: typing-extensions in /usr/local/lib/python3.7/dist-packages (from torch>=1.6->x-transformers) (4.1.1)\n",
            "Building wheels for collected packages: entmax\n",
            "  Building wheel for entmax (setup.py) ... \u001b[?25l\u001b[?25hdone\n",
            "  Created wheel for entmax: filename=entmax-1.0-py3-none-any.whl size=11015 sha256=cdb74f2b53f43324b4c3c27234dbb1f432ee9f726e74a4143504bbe32fdf6cc6\n",
            "  Stored in directory: /root/.cache/pip/wheels/f7/e8/0d/acc29c2f66e69a1f42483347fa8545c293dec12325ee161716\n",
            "Successfully built entmax\n",
            "Installing collected packages: entmax, einops, x-transformers\n",
            "Successfully installed einops-0.4.1 entmax-1.0 x-transformers-0.32.1\n"
          ]
        }
      ]
    },
    {
      "cell_type": "code",
      "source": [
        "CUDA_LAUNCH_BLOCKING=1."
      ],
      "metadata": {
        "id": "xTeuxv3sQ44h"
      },
      "execution_count": null,
      "outputs": []
    },
    {
      "cell_type": "code",
      "source": [
        "import torch\n",
        "import torch.optim as optim\n",
        "from x_transformers import AutoregressiveWrapper, TransformerWrapper, Decoder\n",
        "\n",
        "n_bins = 20\n",
        "n_tokens = n_bins * n_bins\n",
        "\n",
        "def convert_to_tokens(x, y, n_bins):\n",
        "  digit_x = np.digitize(np.log(x), np.linspace(-3, 3, n_bins))\n",
        "  digit_y = np.digitize(np.log(y), np.linspace(-3, 3, n_bins))\n",
        "  return digit_y*n_bins + digit_y\n",
        "\n",
        "model = TransformerWrapper(\n",
        "    num_tokens = n_tokens,\n",
        "    max_seq_len = 1024,\n",
        "    attn_layers = Decoder(\n",
        "        dim = 10,\n",
        "        depth = 6,\n",
        "        heads = 8\n",
        "    )\n",
        ").cuda()\n",
        "\n",
        "optimizer = optim.Adam(model.parameters(), lr=1e-3) #Learning rate was changed\n"
      ],
      "metadata": {
        "id": "XEsAsbENBTRl"
      },
      "execution_count": null,
      "outputs": []
    },
    {
      "cell_type": "code",
      "source": [
        "for epoch in range(2):\n",
        "    running_loss = 0.01\n",
        "    for i in range(200):\n",
        "        x0 = np.random.uniform(0.1, 5)\n",
        "        y0 = np.random.uniform(0.1, 5)\n",
        "        x, y, t = integrate_ode(x0, y0, 0.9, 0.3, 0.8, 1, 10, 0.01)\n",
        "        inputs = convert_to_tokens(x, y, n_bins)\n",
        "        inputs = tf.convert_to_tensor(inputs)\n",
        "        #print(inputs)\n",
        "        #inputs = torch.tensor(inputs).unsqueeze(0).cuda()\n",
        "        inputs = torch.unsqueeze(inputs, 0).cuda()\n",
        "  \n",
        "        logits = model(inputs).transpose(1, 2)\n",
        "        loss = torch.nn.functional.cross_entropy(logits, inputs)\n",
        "        loss.backward()\n",
        "        optimizer.step()\n",
        "        \n",
        "        # print statistics\n",
        "        running_loss += loss.item()\n",
        "        if i % 20 == 0:\n",
        "            print('[%d, %5d] loss: %.3f' %\n",
        "                  (epoch + 1, i + 1, running_loss / 20))\n",
        "            running_loss = 0.01\n",
        "\n",
        "print('Finished Training')"
      ],
      "metadata": {
        "id": "gI6XypvjB0o2",
        "colab": {
          "base_uri": "https://localhost:8080/",
          "height": 389
        },
        "outputId": "7732c18d-3b0c-46e5-d4d9-478d527d83a3"
      },
      "execution_count": null,
      "outputs": [
        {
          "output_type": "error",
          "ename": "UnknownError",
          "evalue": "ignored",
          "traceback": [
            "\u001b[0;31m---------------------------------------------------------------------------\u001b[0m",
            "\u001b[0;31mUnknownError\u001b[0m                              Traceback (most recent call last)",
            "\u001b[0;32m<ipython-input-24-c3937671f239>\u001b[0m in \u001b[0;36m<module>\u001b[0;34m()\u001b[0m\n\u001b[1;32m      6\u001b[0m         \u001b[0mx\u001b[0m\u001b[0;34m,\u001b[0m \u001b[0my\u001b[0m\u001b[0;34m,\u001b[0m \u001b[0mt\u001b[0m \u001b[0;34m=\u001b[0m \u001b[0mintegrate_ode\u001b[0m\u001b[0;34m(\u001b[0m\u001b[0mx0\u001b[0m\u001b[0;34m,\u001b[0m \u001b[0my0\u001b[0m\u001b[0;34m,\u001b[0m \u001b[0;36m0.9\u001b[0m\u001b[0;34m,\u001b[0m \u001b[0;36m0.3\u001b[0m\u001b[0;34m,\u001b[0m \u001b[0;36m0.8\u001b[0m\u001b[0;34m,\u001b[0m \u001b[0;36m1\u001b[0m\u001b[0;34m,\u001b[0m \u001b[0;36m10\u001b[0m\u001b[0;34m,\u001b[0m \u001b[0;36m0.01\u001b[0m\u001b[0;34m)\u001b[0m\u001b[0;34m\u001b[0m\u001b[0;34m\u001b[0m\u001b[0m\n\u001b[1;32m      7\u001b[0m         \u001b[0minputs\u001b[0m \u001b[0;34m=\u001b[0m \u001b[0mconvert_to_tokens\u001b[0m\u001b[0;34m(\u001b[0m\u001b[0mx\u001b[0m\u001b[0;34m,\u001b[0m \u001b[0my\u001b[0m\u001b[0;34m,\u001b[0m \u001b[0mn_bins\u001b[0m\u001b[0;34m)\u001b[0m\u001b[0;34m\u001b[0m\u001b[0;34m\u001b[0m\u001b[0m\n\u001b[0;32m----> 8\u001b[0;31m         \u001b[0minputs\u001b[0m \u001b[0;34m=\u001b[0m \u001b[0mtf\u001b[0m\u001b[0;34m.\u001b[0m\u001b[0mconvert_to_tensor\u001b[0m\u001b[0;34m(\u001b[0m\u001b[0minputs\u001b[0m\u001b[0;34m)\u001b[0m\u001b[0;34m\u001b[0m\u001b[0;34m\u001b[0m\u001b[0m\n\u001b[0m\u001b[1;32m      9\u001b[0m         \u001b[0;31m#print(inputs)\u001b[0m\u001b[0;34m\u001b[0m\u001b[0;34m\u001b[0m\u001b[0;34m\u001b[0m\u001b[0m\n\u001b[1;32m     10\u001b[0m         \u001b[0;31m#inputs = torch.tensor(inputs).unsqueeze(0).cuda()\u001b[0m\u001b[0;34m\u001b[0m\u001b[0;34m\u001b[0m\u001b[0;34m\u001b[0m\u001b[0m\n",
            "\u001b[0;32m/usr/local/lib/python3.7/dist-packages/tensorflow/python/util/traceback_utils.py\u001b[0m in \u001b[0;36merror_handler\u001b[0;34m(*args, **kwargs)\u001b[0m\n\u001b[1;32m    151\u001b[0m     \u001b[0;32mexcept\u001b[0m \u001b[0mException\u001b[0m \u001b[0;32mas\u001b[0m \u001b[0me\u001b[0m\u001b[0;34m:\u001b[0m\u001b[0;34m\u001b[0m\u001b[0;34m\u001b[0m\u001b[0m\n\u001b[1;32m    152\u001b[0m       \u001b[0mfiltered_tb\u001b[0m \u001b[0;34m=\u001b[0m \u001b[0m_process_traceback_frames\u001b[0m\u001b[0;34m(\u001b[0m\u001b[0me\u001b[0m\u001b[0;34m.\u001b[0m\u001b[0m__traceback__\u001b[0m\u001b[0;34m)\u001b[0m\u001b[0;34m\u001b[0m\u001b[0;34m\u001b[0m\u001b[0m\n\u001b[0;32m--> 153\u001b[0;31m       \u001b[0;32mraise\u001b[0m \u001b[0me\u001b[0m\u001b[0;34m.\u001b[0m\u001b[0mwith_traceback\u001b[0m\u001b[0;34m(\u001b[0m\u001b[0mfiltered_tb\u001b[0m\u001b[0;34m)\u001b[0m \u001b[0;32mfrom\u001b[0m \u001b[0;32mNone\u001b[0m\u001b[0;34m\u001b[0m\u001b[0;34m\u001b[0m\u001b[0m\n\u001b[0m\u001b[1;32m    154\u001b[0m     \u001b[0;32mfinally\u001b[0m\u001b[0;34m:\u001b[0m\u001b[0;34m\u001b[0m\u001b[0;34m\u001b[0m\u001b[0m\n\u001b[1;32m    155\u001b[0m       \u001b[0;32mdel\u001b[0m \u001b[0mfiltered_tb\u001b[0m\u001b[0;34m\u001b[0m\u001b[0;34m\u001b[0m\u001b[0m\n",
            "\u001b[0;32m/usr/local/lib/python3.7/dist-packages/tensorflow/python/eager/context.py\u001b[0m in \u001b[0;36mensure_initialized\u001b[0;34m(self)\u001b[0m\n\u001b[1;32m    573\u001b[0m         pywrap_tfe.TFE_ContextOptionsSetRunEagerOpAsFunction(\n\u001b[1;32m    574\u001b[0m             opts, self._run_eager_op_as_function)\n\u001b[0;32m--> 575\u001b[0;31m         \u001b[0mcontext_handle\u001b[0m \u001b[0;34m=\u001b[0m \u001b[0mpywrap_tfe\u001b[0m\u001b[0;34m.\u001b[0m\u001b[0mTFE_NewContext\u001b[0m\u001b[0;34m(\u001b[0m\u001b[0mopts\u001b[0m\u001b[0;34m)\u001b[0m\u001b[0;34m\u001b[0m\u001b[0;34m\u001b[0m\u001b[0m\n\u001b[0m\u001b[1;32m    576\u001b[0m       \u001b[0;32mfinally\u001b[0m\u001b[0;34m:\u001b[0m\u001b[0;34m\u001b[0m\u001b[0;34m\u001b[0m\u001b[0m\n\u001b[1;32m    577\u001b[0m         \u001b[0mpywrap_tfe\u001b[0m\u001b[0;34m.\u001b[0m\u001b[0mTFE_DeleteContextOptions\u001b[0m\u001b[0;34m(\u001b[0m\u001b[0mopts\u001b[0m\u001b[0;34m)\u001b[0m\u001b[0;34m\u001b[0m\u001b[0;34m\u001b[0m\u001b[0m\n",
            "\u001b[0;31mUnknownError\u001b[0m: Failed to query available memory for GPU 0"
          ]
        }
      ]
    },
    {
      "cell_type": "code",
      "source": [
        ""
      ],
      "metadata": {
        "colab": {
          "base_uri": "https://localhost:8080/"
        },
        "id": "j8i-XOVieS3b",
        "outputId": "666ddb03-4f13-4bd8-b94b-12c8bf20fa9f"
      },
      "execution_count": null,
      "outputs": [
        {
          "output_type": "stream",
          "name": "stdout",
          "text": [
            "(1000,) <class 'numpy.ndarray'>\n"
          ]
        }
      ]
    },
    {
      "cell_type": "code",
      "source": [
        "decoder_model = AutoregressiveWrapper(model)"
      ],
      "metadata": {
        "id": "JoEGkulBB3IU"
      },
      "execution_count": null,
      "outputs": []
    },
    {
      "cell_type": "code",
      "source": [
        "sample = decoder_model.generate(torch.tensor([315]).cuda(), 1000)\n",
        "#TODO: reverse tokenization and plot the sample"
      ],
      "metadata": {
        "id": "6DVVAyk8B4_x"
      },
      "execution_count": null,
      "outputs": []
    },
    {
      "cell_type": "markdown",
      "source": [
        "## **Questions**\n",
        "- **Please explain which bugs you fixed and why they were a problem.**"
      ],
      "metadata": {
        "id": "Ea79AiMvEJqB"
      }
    },
    {
      "cell_type": "markdown",
      "source": [
        ">> The program ran when I changed the learning rate from `0.1` to `0.001`. However, I am not sure whether I fixed the problem, but the certainy learning rate was too large for training the dataset. H"
      ],
      "metadata": {
        "id": "7a_WhGykErsD"
      }
    },
    {
      "cell_type": "markdown",
      "source": [
        "## **Appendix**"
      ],
      "metadata": {
        "id": "OizMBiSwCI9R"
      }
    },
    {
      "cell_type": "code",
      "source": [
        "\n",
        "#Function to evaluate the prediction after training the dataset\n",
        "def predictions(t_train, y_train, t_test):\n",
        "  tf.random.set_seed(42)\n",
        "  #Setting a random seed, ensures that the “random” initialization of variables are always the same\n",
        "\n",
        "  #1. Create a model\n",
        "  model_2 = tf.keras.Sequential([ \n",
        "  tf.keras.layers.Dense(950, activation = \"relu\", input_shape = [1]), \n",
        "  tf.keras.layers.Dense(1000, activation = \"relu\"), \n",
        "  tf.keras.layers.Dense(1000,activation = \"relu\"),  \n",
        "  tf.keras.layers.Dense(1000,activation = \"relu\"),  \n",
        "  tf.keras.layers.Dense(1000,activation = \"relu\"),  \n",
        "  tf.keras.layers.Dense(1000,activation = \"relu\"),  \n",
        "  tf.keras.layers.Dense(1, activation = \"relu\") #1 unit (for output layer)\n",
        "  ])\n",
        "  #2. Compile the model\n",
        "  model_2.compile(loss = tf.keras.losses.mse,\n",
        "           optimizer = tf.keras.optimizers.Adam(lr = 0.0001),\n",
        "             metrics = [\"mse\"])\n",
        "  #3. Fit the model\n",
        "  history = model_2.fit(tf.expand_dims(t_train, axis = -1), y_train, epochs = 1000, verbose = 0)\n",
        "  y_predict = model_2.predict(t_test)\n",
        "\n",
        "  return y_predict\n",
        "\n",
        "#Split the dataset in randoml in a different fraction of training and test dataset\n",
        "from sklearn.model_selection import train_test_split\n",
        "t_train_1,t_test_1,y_train_1,y_test_1=train_test_split(df[\"t\"],df[\"y\"],test_size=0.1) #90/10\n",
        "t_train_2,t_test_2,y_train_2,y_test_2=train_test_split(df[\"t\"],df[\"y\"],test_size=0.2) #80/20\n",
        "t_train_3,t_test_3,y_train_3,y_test_3=train_test_split(df[\"t\"],df[\"y\"],test_size=0.3) #70/30\n",
        "t_train_4,t_test_4,y_train_4,y_test_4=train_test_split(df[\"t\"],df[\"y\"],test_size=0.4) #60/40\n",
        "\n",
        "#Predicted values of y at different ratio's\n",
        "y_pred_1 = predictions(t_train_1, y_train_1, t_test_1)\n",
        "y_pred_2 = predictions(t_train_2, y_train_2, t_test_2)\n",
        "y_pred_3 = predictions(t_train_3, y_train_3, t_test_3)\n",
        "y_pred_4 = predictions(t_train_4, y_train_4, t_test_4)\n"
      ],
      "metadata": {
        "id": "_O1pjlqEFsC-",
        "colab": {
          "base_uri": "https://localhost:8080/"
        },
        "outputId": "b6c57a4f-c07c-4013-ec41-48b7972a6e76"
      },
      "execution_count": null,
      "outputs": [
        {
          "output_type": "stream",
          "name": "stderr",
          "text": [
            "/usr/local/lib/python3.7/dist-packages/keras/optimizer_v2/adam.py:105: UserWarning: The `lr` argument is deprecated, use `learning_rate` instead.\n",
            "  super(Adam, self).__init__(name, **kwargs)\n"
          ]
        }
      ]
    },
    {
      "cell_type": "code",
      "source": [
        "#Defining the functions for mean absolute error and mean square error\n",
        "def mae(y_test, y_pred):\n",
        "  \"\"\"\n",
        "  Calculates mean absolute error between y_test and y_preds\n",
        "  \"\"\"\n",
        "  output = tf.metrics.mean_absolute_error(y_test,y_pred)\n",
        "  return output\n",
        "\n",
        "def mse(y_test, y_pred):\n",
        "  \"\"\"\n",
        "  Caluclates mean squared error between y_test and y_preds\n",
        "  \"\"\"\n",
        "  output = tf.metrics.mean_squared_error(y_test, y_pred)\n",
        "  return output\n",
        "\n",
        "mae_1 = mae(y_test_1, y_pred_1.squeeze())\n",
        "mse_1 = mse(y_test_1, y_pred_1.squeeze())\n",
        "mae_2 = mae(y_test_1, y_pred_1.squeeze())\n",
        "mse_2 = mse(y_test_1, y_pred_1.squeeze())\n",
        "mae_3 = mae(y_test_1, y_pred_1.squeeze())\n",
        "mse_3 = mse(y_test_1, y_pred_1.squeeze())\n",
        "mae_4 = mae(y_test_1, y_pred_1.squeeze())\n",
        "mse_4 = mse(y_test_1, y_pred_1.squeeze())\n",
        "\n",
        "\n",
        "batch_results = [[\"batch_1\", mae_1, mse_1],\n",
        "                  [\"batch_2\", mae_2, mse_2],\n",
        "                  [\"batch_3\", mae_3, mae_3],\n",
        "                  [\"batch_4\", mae_4, mae_4]]"
      ],
      "metadata": {
        "id": "MNGmQj0xAmMV"
      },
      "execution_count": null,
      "outputs": []
    },
    {
      "cell_type": "code",
      "source": [
        "import pandas as pd\n",
        "all_results = pd.DataFrame(batch_results, columns=[\"model\", \"mae\", \"mse\"])\n",
        "all_results"
      ],
      "metadata": {
        "colab": {
          "base_uri": "https://localhost:8080/",
          "height": 175
        },
        "id": "ABgTs-0-C-gV",
        "outputId": "213fe785-22e2-4917-9c7d-9754c1131016"
      },
      "execution_count": null,
      "outputs": [
        {
          "output_type": "execute_result",
          "data": {
            "text/plain": [
              "     model                                            mae  \\\n",
              "0  batch_1  tf.Tensor(1.0285283, shape=(), dtype=float32)   \n",
              "1  batch_2  tf.Tensor(1.0285283, shape=(), dtype=float32)   \n",
              "2  batch_3  tf.Tensor(1.0285283, shape=(), dtype=float32)   \n",
              "3  batch_4  tf.Tensor(1.0285283, shape=(), dtype=float32)   \n",
              "\n",
              "                                             mse  \n",
              "0  tf.Tensor(2.5352159, shape=(), dtype=float32)  \n",
              "1  tf.Tensor(2.5352159, shape=(), dtype=float32)  \n",
              "2  tf.Tensor(1.0285283, shape=(), dtype=float32)  \n",
              "3  tf.Tensor(1.0285283, shape=(), dtype=float32)  "
            ],
            "text/html": [
              "\n",
              "  <div id=\"df-f3f39da7-882a-463c-9d74-47bffad3660d\">\n",
              "    <div class=\"colab-df-container\">\n",
              "      <div>\n",
              "<style scoped>\n",
              "    .dataframe tbody tr th:only-of-type {\n",
              "        vertical-align: middle;\n",
              "    }\n",
              "\n",
              "    .dataframe tbody tr th {\n",
              "        vertical-align: top;\n",
              "    }\n",
              "\n",
              "    .dataframe thead th {\n",
              "        text-align: right;\n",
              "    }\n",
              "</style>\n",
              "<table border=\"1\" class=\"dataframe\">\n",
              "  <thead>\n",
              "    <tr style=\"text-align: right;\">\n",
              "      <th></th>\n",
              "      <th>model</th>\n",
              "      <th>mae</th>\n",
              "      <th>mse</th>\n",
              "    </tr>\n",
              "  </thead>\n",
              "  <tbody>\n",
              "    <tr>\n",
              "      <th>0</th>\n",
              "      <td>batch_1</td>\n",
              "      <td>tf.Tensor(1.0285283, shape=(), dtype=float32)</td>\n",
              "      <td>tf.Tensor(2.5352159, shape=(), dtype=float32)</td>\n",
              "    </tr>\n",
              "    <tr>\n",
              "      <th>1</th>\n",
              "      <td>batch_2</td>\n",
              "      <td>tf.Tensor(1.0285283, shape=(), dtype=float32)</td>\n",
              "      <td>tf.Tensor(2.5352159, shape=(), dtype=float32)</td>\n",
              "    </tr>\n",
              "    <tr>\n",
              "      <th>2</th>\n",
              "      <td>batch_3</td>\n",
              "      <td>tf.Tensor(1.0285283, shape=(), dtype=float32)</td>\n",
              "      <td>tf.Tensor(1.0285283, shape=(), dtype=float32)</td>\n",
              "    </tr>\n",
              "    <tr>\n",
              "      <th>3</th>\n",
              "      <td>batch_4</td>\n",
              "      <td>tf.Tensor(1.0285283, shape=(), dtype=float32)</td>\n",
              "      <td>tf.Tensor(1.0285283, shape=(), dtype=float32)</td>\n",
              "    </tr>\n",
              "  </tbody>\n",
              "</table>\n",
              "</div>\n",
              "      <button class=\"colab-df-convert\" onclick=\"convertToInteractive('df-f3f39da7-882a-463c-9d74-47bffad3660d')\"\n",
              "              title=\"Convert this dataframe to an interactive table.\"\n",
              "              style=\"display:none;\">\n",
              "        \n",
              "  <svg xmlns=\"http://www.w3.org/2000/svg\" height=\"24px\"viewBox=\"0 0 24 24\"\n",
              "       width=\"24px\">\n",
              "    <path d=\"M0 0h24v24H0V0z\" fill=\"none\"/>\n",
              "    <path d=\"M18.56 5.44l.94 2.06.94-2.06 2.06-.94-2.06-.94-.94-2.06-.94 2.06-2.06.94zm-11 1L8.5 8.5l.94-2.06 2.06-.94-2.06-.94L8.5 2.5l-.94 2.06-2.06.94zm10 10l.94 2.06.94-2.06 2.06-.94-2.06-.94-.94-2.06-.94 2.06-2.06.94z\"/><path d=\"M17.41 7.96l-1.37-1.37c-.4-.4-.92-.59-1.43-.59-.52 0-1.04.2-1.43.59L10.3 9.45l-7.72 7.72c-.78.78-.78 2.05 0 2.83L4 21.41c.39.39.9.59 1.41.59.51 0 1.02-.2 1.41-.59l7.78-7.78 2.81-2.81c.8-.78.8-2.07 0-2.86zM5.41 20L4 18.59l7.72-7.72 1.47 1.35L5.41 20z\"/>\n",
              "  </svg>\n",
              "      </button>\n",
              "      \n",
              "  <style>\n",
              "    .colab-df-container {\n",
              "      display:flex;\n",
              "      flex-wrap:wrap;\n",
              "      gap: 12px;\n",
              "    }\n",
              "\n",
              "    .colab-df-convert {\n",
              "      background-color: #E8F0FE;\n",
              "      border: none;\n",
              "      border-radius: 50%;\n",
              "      cursor: pointer;\n",
              "      display: none;\n",
              "      fill: #1967D2;\n",
              "      height: 32px;\n",
              "      padding: 0 0 0 0;\n",
              "      width: 32px;\n",
              "    }\n",
              "\n",
              "    .colab-df-convert:hover {\n",
              "      background-color: #E2EBFA;\n",
              "      box-shadow: 0px 1px 2px rgba(60, 64, 67, 0.3), 0px 1px 3px 1px rgba(60, 64, 67, 0.15);\n",
              "      fill: #174EA6;\n",
              "    }\n",
              "\n",
              "    [theme=dark] .colab-df-convert {\n",
              "      background-color: #3B4455;\n",
              "      fill: #D2E3FC;\n",
              "    }\n",
              "\n",
              "    [theme=dark] .colab-df-convert:hover {\n",
              "      background-color: #434B5C;\n",
              "      box-shadow: 0px 1px 3px 1px rgba(0, 0, 0, 0.15);\n",
              "      filter: drop-shadow(0px 1px 2px rgba(0, 0, 0, 0.3));\n",
              "      fill: #FFFFFF;\n",
              "    }\n",
              "  </style>\n",
              "\n",
              "      <script>\n",
              "        const buttonEl =\n",
              "          document.querySelector('#df-f3f39da7-882a-463c-9d74-47bffad3660d button.colab-df-convert');\n",
              "        buttonEl.style.display =\n",
              "          google.colab.kernel.accessAllowed ? 'block' : 'none';\n",
              "\n",
              "        async function convertToInteractive(key) {\n",
              "          const element = document.querySelector('#df-f3f39da7-882a-463c-9d74-47bffad3660d');\n",
              "          const dataTable =\n",
              "            await google.colab.kernel.invokeFunction('convertToInteractive',\n",
              "                                                     [key], {});\n",
              "          if (!dataTable) return;\n",
              "\n",
              "          const docLinkHtml = 'Like what you see? Visit the ' +\n",
              "            '<a target=\"_blank\" href=https://colab.research.google.com/notebooks/data_table.ipynb>data table notebook</a>'\n",
              "            + ' to learn more about interactive tables.';\n",
              "          element.innerHTML = '';\n",
              "          dataTable['output_type'] = 'display_data';\n",
              "          await google.colab.output.renderOutput(dataTable, element);\n",
              "          const docLink = document.createElement('div');\n",
              "          docLink.innerHTML = docLinkHtml;\n",
              "          element.appendChild(docLink);\n",
              "        }\n",
              "      </script>\n",
              "    </div>\n",
              "  </div>\n",
              "  "
            ]
          },
          "metadata": {},
          "execution_count": 152
        }
      ]
    },
    {
      "cell_type": "markdown",
      "source": [
        ">> From the above table, it appears that it hardly changes for a given set of batch sizes. So, I believe the amount of data is minimal for training and making predictions."
      ],
      "metadata": {
        "id": "YsHbxjEIESQk"
      }
    },
    {
      "cell_type": "code",
      "source": [
        ""
      ],
      "metadata": {
        "id": "gcQDlPQFDK-E"
      },
      "execution_count": null,
      "outputs": []
    }
  ]
}