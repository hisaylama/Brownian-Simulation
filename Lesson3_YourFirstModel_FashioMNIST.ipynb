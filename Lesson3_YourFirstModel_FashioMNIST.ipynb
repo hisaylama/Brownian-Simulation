{
  "nbformat": 4,
  "nbformat_minor": 0,
  "metadata": {
    "colab": {
      "name": "Lesson3_YourFirstModel-FashioMNIST.ipynb",
      "private_outputs": true,
      "provenance": [],
      "collapsed_sections": [],
      "authorship_tag": "ABX9TyNXLYwiySfDHG9IwDE7m55K",
      "include_colab_link": true
    },
    "kernelspec": {
      "name": "python3",
      "display_name": "Python 3"
    },
    "language_info": {
      "name": "python"
    }
  },
  "cells": [
    {
      "cell_type": "markdown",
      "metadata": {
        "id": "view-in-github",
        "colab_type": "text"
      },
      "source": [
        "<a href=\"https://colab.research.google.com/github/hisaylama/Brownian-Simulation/blob/master/Lesson3_YourFirstModel_FashioMNIST.ipynb\" target=\"_parent\"><img src=\"https://colab.research.google.com/assets/colab-badge.svg\" alt=\"Open In Colab\"/></a>"
      ]
    },
    {
      "cell_type": "markdown",
      "metadata": {
        "id": "kfE4Wjt1fXTw"
      },
      "source": [
        "## Basic classification: Fashion MNIST dataset\n",
        "\n",
        "This guide trains a neural network model to classify images of clothing, like sneakers and shhirts. It's okay if you don't understand all the details; this is a fast-paced overview of a complete TensorFlow program with the details explain as you go."
      ]
    },
    {
      "cell_type": "code",
      "metadata": {
        "id": "PNoqsPcBfb9X"
      },
      "source": [
        "#TensorFlow and tf.keras\n",
        "import tensorflow as tf\n",
        "\n",
        "#Helper libraries\n",
        "import numpy as np\n",
        "import matplotlib.pyplot as plt\n",
        "\n",
        "print(tf.__version__)"
      ],
      "execution_count": null,
      "outputs": []
    },
    {
      "cell_type": "markdown",
      "metadata": {
        "id": "j5oTT4-NEqva"
      },
      "source": [
        "##Import the Fashion MNIST dataset\n",
        "\n",
        "This guide uses the Fashion MNIST dataset which contains 70000 grayscale images in 10 categories. The images show individual articles of clothing at low resolution (28 by 28 pixels), as seen here:"
      ]
    },
    {
      "cell_type": "code",
      "metadata": {
        "id": "jDpNnUKBhdnv"
      },
      "source": [
        "fashion_mnist = tf.keras.datasets.fashion_mnist\n",
        "\n",
        "(train_images, train_labels),\\\n",
        "(test_images, test_labels) = fashion_mnist.load_data()"
      ],
      "execution_count": null,
      "outputs": []
    },
    {
      "cell_type": "markdown",
      "metadata": {
        "id": "tDggZ4d4FTwy"
      },
      "source": [
        "Loading the dataset returns four NumPy arrays:\n",
        "- The train_images and train_labels arrays are the training set-the data the model uses to learn.\n",
        "- The model is tested against the test set, the test_images and test_labels arrays.\n",
        "\n",
        "The images are 28x28 NumPy arrays with pixel values ranging from 0 to 255. The labels are an array of integers, ranging from 0 to 9. These correspond to the class of clothing the image represents:\n",
        "\n",
        "Label\tClass <br>\n",
        "0\tT-shirt/top<br>\n",
        "1\tTrouser<br>\n",
        "2\tPullover<br>\n",
        "3\tDress<br>\n",
        "4\tCoat<br>\n",
        "5\tSandal<br>\n",
        "6\tShirt<br>\n",
        "7\tSneaker<br>\n",
        "8\tBag<br>\n",
        "9\tAnkle boot<br>"
      ]
    },
    {
      "cell_type": "code",
      "metadata": {
        "id": "4fe2RaXVvly_"
      },
      "source": [
        "class_names = ['T-shirt/top', 'Trouser', 'Pullover', 'Dress', 'coat'\\\n",
        "               , 'Sandal', 'Shirt', 'Sneaker', 'Bag', 'Ankle boot']"
      ],
      "execution_count": null,
      "outputs": []
    },
    {
      "cell_type": "markdown",
      "metadata": {
        "id": "l826nQNqGhjl"
      },
      "source": [
        "## Explore the data\n",
        "Lets explore the format of the dataset before training the model. The following shows there are 60,000 images in the training set, with each image represented as 28x28 pixel:"
      ]
    },
    {
      "cell_type": "code",
      "metadata": {
        "id": "AK20YZM3wGcB"
      },
      "source": [
        "train_images.shape"
      ],
      "execution_count": null,
      "outputs": []
    },
    {
      "cell_type": "code",
      "metadata": {
        "id": "CiNcBfpKG3QR"
      },
      "source": [
        "len(train_labels)"
      ],
      "execution_count": null,
      "outputs": []
    },
    {
      "cell_type": "code",
      "metadata": {
        "id": "AjjDQTjnxr9w"
      },
      "source": [
        "train_labels"
      ],
      "execution_count": null,
      "outputs": []
    },
    {
      "cell_type": "code",
      "metadata": {
        "id": "frZoVCQGyHEw"
      },
      "source": [
        "test_images.shape"
      ],
      "execution_count": null,
      "outputs": []
    },
    {
      "cell_type": "code",
      "metadata": {
        "id": "2Wct-gE-yVkz"
      },
      "source": [
        "len(test_labels)"
      ],
      "execution_count": null,
      "outputs": []
    },
    {
      "cell_type": "markdown",
      "metadata": {
        "id": "5RbwjO4SHgGU"
      },
      "source": [
        "## Preprocess the data\n",
        "\n",
        "The data must be preprocessed before training the network. If you inspect the first image in the training set, you will see that the pixel values fall in the range of 0 to 255."
      ]
    },
    {
      "cell_type": "code",
      "metadata": {
        "id": "wCjBx1tUHewx"
      },
      "source": [
        "plt.figure()\n",
        "plt.imshow(train_images[0])\n",
        "plt.colorbar()\n",
        "plt.show()"
      ],
      "execution_count": null,
      "outputs": []
    },
    {
      "cell_type": "markdown",
      "metadata": {
        "id": "pofUI3rIICUC"
      },
      "source": [
        "Scale thes values to a range 0 to 1 before feeding them to the neural network model. To do so, divide the values by 255. It's important that training set and the testing set be preprocessed in the same way:"
      ]
    },
    {
      "cell_type": "code",
      "metadata": {
        "id": "LtiafG5BH5AB"
      },
      "source": [
        "train_images = train_images /255.0\n",
        "test_images = test_images / 255.0"
      ],
      "execution_count": null,
      "outputs": []
    },
    {
      "cell_type": "markdown",
      "metadata": {
        "id": "0JcjgI72IhsF"
      },
      "source": [
        "Display first 25 images from the training set."
      ]
    },
    {
      "cell_type": "code",
      "metadata": {
        "id": "XkgemXjHIbVZ"
      },
      "source": [
        "plt.figure(figsize = (10, 10))\n",
        "for i in range (25):\n",
        "  plt.subplot(5, 5, i+1)\n",
        "  plt.xticks([])\n",
        "  plt.yticks([])\n",
        "  plt.grid(False)\n",
        "  plt.imshow(train_images[i], cmap = plt.cm.binary)\n",
        "  plt.xlabel(class_names[train_labels[i]])\n",
        "plt.show()"
      ],
      "execution_count": null,
      "outputs": []
    },
    {
      "cell_type": "code",
      "metadata": {
        "id": "rMcV5tPeJL-S"
      },
      "source": [
        "#Build the Model\n",
        "model = tf.keras.Sequential([\n",
        "                             tf.keras.layers.Flatten(input_shape = (28,28)),\n",
        "                             tf.keras.layers.Dense(128, activation = 'relu'),\n",
        "                             tf.keras.layers.Dense(10)\n",
        "])"
      ],
      "execution_count": null,
      "outputs": []
    },
    {
      "cell_type": "code",
      "metadata": {
        "id": "K1vsFaexKOLh"
      },
      "source": [
        "model.compile(optimizer='adam', loss = tf.keras.losses.SparseCategoricalCrossentropy(from_logits=True), metrics=['accuracy'])"
      ],
      "execution_count": null,
      "outputs": []
    },
    {
      "cell_type": "code",
      "metadata": {
        "id": "DD5maibHKklC"
      },
      "source": [
        "model.fit(train_images, train_labels, epochs=10)"
      ],
      "execution_count": null,
      "outputs": []
    },
    {
      "cell_type": "code",
      "metadata": {
        "id": "SqIW9k_NKm0-"
      },
      "source": [
        "test_loss, test_acc = model.evaluate(test_images,  test_labels, verbose=2)\n",
        "\n",
        "print('\\nTest accuracy:', test_acc)"
      ],
      "execution_count": null,
      "outputs": []
    },
    {
      "cell_type": "code",
      "metadata": {
        "id": "TB12zOPlKxUu"
      },
      "source": [
        "probability_model = tf.keras.Sequential([model, \n",
        "                                         tf.keras.layers.Softmax()])"
      ],
      "execution_count": null,
      "outputs": []
    },
    {
      "cell_type": "code",
      "metadata": {
        "id": "izxA86bxK377"
      },
      "source": [
        "predictions = probability_model.predict(test_images)"
      ],
      "execution_count": null,
      "outputs": []
    },
    {
      "cell_type": "code",
      "metadata": {
        "id": "OoRPY7iMK9rj"
      },
      "source": [
        "predictions[0]"
      ],
      "execution_count": null,
      "outputs": []
    },
    {
      "cell_type": "code",
      "metadata": {
        "id": "lesP0_eVLAEW"
      },
      "source": [
        "np.argmax(predictions[0])"
      ],
      "execution_count": null,
      "outputs": []
    },
    {
      "cell_type": "code",
      "metadata": {
        "id": "bIz2grPNLE9g"
      },
      "source": [
        "test_labels[0]"
      ],
      "execution_count": null,
      "outputs": []
    },
    {
      "cell_type": "code",
      "metadata": {
        "id": "cYu6CWUzLI0x"
      },
      "source": [
        ""
      ],
      "execution_count": null,
      "outputs": []
    }
  ]
}